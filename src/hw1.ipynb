{
  "nbformat": 4,
  "nbformat_minor": 0,
  "metadata": {
    "colab": {
      "name": "Untitled54.ipynb",
      "provenance": [],
      "collapsed_sections": []
    },
    "kernelspec": {
      "name": "python3",
      "display_name": "Python 3"
    },
    "language_info": {
      "name": "python"
    }
  },
  "cells": [
    {
      "cell_type": "markdown",
      "metadata": {
        "id": "g7qEmnh-Z3B0"
      },
      "source": [
        "Код в <ins>Google Colab</ins> для анализа полученных контигов:\n",
        "- общее количество контигов\n",
        "- общая длина\n",
        "- длина самого длинного контига\n",
        "- N50"
      ]
    },
    {
      "cell_type": "code",
      "metadata": {
        "colab": {
          "base_uri": "https://localhost:8080/"
        },
        "id": "ca6V5XrnbQrM",
        "outputId": "e5bb1e24-a475-4976-84f0-503b17f02f6b"
      },
      "source": [
        "def info(file):\n",
        "  lenghts = !grep '^>' $file | sed -E 's/^.*len([0-9]+).*$/\\1/'\n",
        "  nums = sorted((int(e) for e in lenghts), reverse=True)\n",
        "  total = sum(nums)\n",
        "\n",
        "  score = 0\n",
        "  for e in nums:\n",
        "    score += e\n",
        "    if score >= total/2:\n",
        "      N50 = e\n",
        "      break\n",
        "\n",
        "  print(f\"количество = {len(nums)}\")\n",
        "  print(f\"общая длина = {total}\")\n",
        "  print(f\"самый длинный = {nums[0]}\")\n",
        "  print(f\"N50 = {N50}\")\n",
        "\n",
        "info(\"Poil_contig.fa\")"
      ],
      "execution_count": 4,
      "outputs": [
        {
          "output_type": "stream",
          "name": "stdout",
          "text": [
            "количество = 621\n",
            "общая длина = 3926048\n",
            "самый длинный = 142015\n",
            "N50 = 47797\n"
          ]
        }
      ]
    },
    {
      "cell_type": "markdown",
      "metadata": {
        "id": "6tjxBT19dWw3"
      },
      "source": [
        "Анализ скаффолдов (то же самое, что и предыдущий шаг)"
      ]
    },
    {
      "cell_type": "code",
      "metadata": {
        "colab": {
          "base_uri": "https://localhost:8080/"
        },
        "id": "ilYPMY0WdOs7",
        "outputId": "903e0fb1-bd8a-494d-b22b-97ec099984e1"
      },
      "source": [
        "info(\"Poil_scaffold.fa\")"
      ],
      "execution_count": 5,
      "outputs": [
        {
          "output_type": "stream",
          "name": "stdout",
          "text": [
            "количество = 68\n",
            "общая длина = 3875961\n",
            "самый длинный = 3834580\n",
            "N50 = 3834580\n"
          ]
        }
      ]
    },
    {
      "cell_type": "markdown",
      "metadata": {
        "id": "lBKRuzu-lmZg"
      },
      "source": [
        "Количество гэпов (участков, состоящих из букв NNNN) и их общая длина для самого длинного скаффолда"
      ]
    },
    {
      "cell_type": "code",
      "metadata": {
        "colab": {
          "base_uri": "https://localhost:8080/"
        },
        "id": "X5KCj_sOfmCp",
        "outputId": "155cf4bf-0c45-4734-91e2-1c2d6d35bbd1"
      },
      "source": [
        "import re\n",
        "\n",
        "f = open(\"Poil_gapClosed.fa\", \"r\")\n",
        "count = 0\n",
        "longstr = f.read()\n",
        "res = re.findall(r'(N+)', longstr)\n",
        "print('Количество:', len(res))\n",
        "for i in res:\n",
        "    count += len(i)\n",
        "print('Общая длина:', count)"
      ],
      "execution_count": 6,
      "outputs": [
        {
          "output_type": "stream",
          "name": "stdout",
          "text": [
            "Количество: 28\n",
            "Общая длина: 1606\n"
          ]
        }
      ]
    },
    {
      "cell_type": "code",
      "metadata": {
        "colab": {
          "base_uri": "https://localhost:8080/"
        },
        "id": "f9wvtd15nGvS",
        "outputId": "a6c6e797-e4d5-4419-d17b-b386e95b43b3"
      },
      "source": [
        "# то же самое, но после platanus gap_close\n",
        "f = open(\"longest.fna\", \"r\")\n",
        "count = 0\n",
        "longstr = f.read()\n",
        "res = re.findall(r'(N+)', longstr)\n",
        "print('Количество:', len(res))\n",
        "for i in res:\n",
        "    count += len(i)\n",
        "print('Общая длина:', count)"
      ],
      "execution_count": 9,
      "outputs": [
        {
          "output_type": "stream",
          "name": "stdout",
          "text": [
            "Количество: 8\n",
            "Общая длина: 1606\n"
          ]
        }
      ]
    }
  ]
}